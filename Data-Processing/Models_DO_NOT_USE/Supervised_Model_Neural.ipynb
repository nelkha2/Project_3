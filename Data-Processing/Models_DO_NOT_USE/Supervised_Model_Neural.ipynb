{
 "cells": [
  {
   "cell_type": "markdown",
   "metadata": {},
   "source": [
    "# Data Processing "
   ]
  },
  {
   "cell_type": "code",
   "execution_count": 15,
   "metadata": {},
   "outputs": [],
   "source": [
    "# Dependencies \n",
    "import numpy as np\n",
    "import pandas as pd\n",
    "%matplotlib inline\n",
    "import matplotlib.pyplot as plt\n",
    "from tensorflow.keras.utils import to_categorical"
   ]
  },
  {
   "cell_type": "code",
   "execution_count": 16,
   "metadata": {},
   "outputs": [
    {
     "data": {
      "text/html": [
       "<div>\n",
       "<style scoped>\n",
       "    .dataframe tbody tr th:only-of-type {\n",
       "        vertical-align: middle;\n",
       "    }\n",
       "\n",
       "    .dataframe tbody tr th {\n",
       "        vertical-align: top;\n",
       "    }\n",
       "\n",
       "    .dataframe thead th {\n",
       "        text-align: right;\n",
       "    }\n",
       "</style>\n",
       "<table border=\"1\" class=\"dataframe\">\n",
       "  <thead>\n",
       "    <tr style=\"text-align: right;\">\n",
       "      <th></th>\n",
       "      <th>Phrase</th>\n",
       "      <th>Frequency</th>\n",
       "    </tr>\n",
       "  </thead>\n",
       "  <tbody>\n",
       "    <tr>\n",
       "      <th>0</th>\n",
       "      <td>A Pile Of Coats</td>\n",
       "      <td>10</td>\n",
       "    </tr>\n",
       "    <tr>\n",
       "      <th>1</th>\n",
       "      <td>A Pile Of Coats On The Bed</td>\n",
       "      <td>112</td>\n",
       "    </tr>\n",
       "    <tr>\n",
       "      <th>2</th>\n",
       "      <td>A Shelf Full Of Knickknacks</td>\n",
       "      <td>16</td>\n",
       "    </tr>\n",
       "    <tr>\n",
       "      <th>3</th>\n",
       "      <td>A Sock With Holes In It</td>\n",
       "      <td>143</td>\n",
       "    </tr>\n",
       "    <tr>\n",
       "      <th>4</th>\n",
       "      <td>A Vase Filled With Sunflowers</td>\n",
       "      <td>147</td>\n",
       "    </tr>\n",
       "  </tbody>\n",
       "</table>\n",
       "</div>"
      ],
      "text/plain": [
       "                          Phrase  Frequency\n",
       "0                A Pile Of Coats         10\n",
       "1     A Pile Of Coats On The Bed        112\n",
       "2    A Shelf Full Of Knickknacks         16\n",
       "3        A Sock With Holes In It        143\n",
       "4  A Vase Filled With Sunflowers        147"
      ]
     },
     "execution_count": 16,
     "metadata": {},
     "output_type": "execute_result"
    }
   ],
   "source": [
    "# Extract Data - Model to learn fromhistorical data \n",
    "# UAT: csv manually created.\n",
    "# Production: Feed from a SQLite table similiar to the below structure, created as a dictionary of arrays in JS\n",
    "phrases = pd.read_csv('../Data/Phrases_Frequency_test.csv')\n",
    "phrases.head()"
   ]
  },
  {
   "cell_type": "code",
   "execution_count": 17,
   "metadata": {},
   "outputs": [
    {
     "name": "stdout",
     "output_type": "stream",
     "text": [
      "['Phrase', 'Frequency']\n"
     ]
    }
   ],
   "source": [
    "#Quality Check: no spaces embedded in column names \n",
    "print(phrases.columns.tolist())"
   ]
  },
  {
   "cell_type": "markdown",
   "metadata": {},
   "source": [
    "# Model - Neural Networks"
   ]
  },
  {
   "cell_type": "code",
   "execution_count": 34,
   "metadata": {},
   "outputs": [
    {
     "name": "stdout",
     "output_type": "stream",
     "text": [
      "(1556, 1) (1556,)\n"
     ]
    }
   ],
   "source": [
    "# Assign X & y \n",
    "X = phrases.drop(\"Phrase\", axis=1)\n",
    "y = phrases[\"Phrase\"]\n",
    "print(X.shape, y.shape)"
   ]
  },
  {
   "cell_type": "code",
   "execution_count": 52,
   "metadata": {},
   "outputs": [],
   "source": [
    "# Scenario 1: Hot-code y data - Hotcode 1st, split 2nd \n",
    "#not recommended b/c of risk of problem appearings production\n",
    "from tensorflow.keras.utils import to_categorical\n",
    "\n",
    "#Step 1: Categorical labeling (convert to special values)\n",
    "label_encoder = LabelEncoder()\n",
    "label_encoder.fit(y)\n",
    "encoded_y = label_encoder.transform(y)\n",
    "\n",
    "# Step 2: Label-encode (convert to binary vectors)\n",
    "y_categorical = to_categorical(encoded_y)"
   ]
  },
  {
   "cell_type": "code",
   "execution_count": 53,
   "metadata": {},
   "outputs": [],
   "source": [
    "#Data Split: Train vs Test  \n",
    "from sklearn.model_selection import train_test_split\n",
    "\n",
    "# Scenario 1: Hotcode 1st, split 2nd\n",
    "X_train, X_test, y_train, y_test = train_test_split(X, y_categorical, random_state=42)\n",
    "\n",
    "# Scenario 2: Split 1st, hotcode 2nd \n",
    "# X_train, X_test, y_train, y_test = train_test_split(X, y, random_state=42)\n"
   ]
  },
  {
   "cell_type": "code",
   "execution_count": 54,
   "metadata": {},
   "outputs": [
    {
     "name": "stderr",
     "output_type": "stream",
     "text": [
      "C:\\Users\\Nader\\Anaconda3\\lib\\site-packages\\sklearn\\preprocessing\\data.py:334: DataConversionWarning: Data with input dtype int64 were all converted to float64 by MinMaxScaler.\n",
      "  return self.partial_fit(X, y)\n"
     ]
    }
   ],
   "source": [
    "# Scale Data \n",
    "from sklearn.preprocessing import LabelEncoder, MinMaxScaler\n",
    "\n",
    "X_scaler = MinMaxScaler().fit(X_train)\n",
    "X_train_scaled = X_scaler.transform(X_train)\n",
    "X_test_scaled = X_scaler.transform(X_test)"
   ]
  },
  {
   "cell_type": "code",
   "execution_count": 41,
   "metadata": {},
   "outputs": [],
   "source": [
    "# # Scenario 2: Split 1st, hotcode 2nd \n",
    "# # error with encoding test data \n",
    "# from tensorflow.keras.utils import to_categorical\n",
    "\n",
    "# #Step 1: Categorical labeling (convert to special values)\n",
    "# label_encoder = LabelEncoder()\n",
    "# label_encoder.fit(y_train)\n",
    "# # label_encoder.fit(y_test)\n",
    "# encoded_y_train = label_encoder.transform(y_train)\n",
    "# # encoded_y_test = label_encoder.transform(y_test)\n",
    "\n",
    "# # Step 2: Label-encode (convert to binary vectors)\n",
    "# y_train_categorical = to_categorical(encoded_y_train)\n",
    "# # y_test_categorical = to_categorical(encoded_y_test)"
   ]
  },
  {
   "cell_type": "code",
   "execution_count": 58,
   "metadata": {},
   "outputs": [],
   "source": [
    "#Create Deep Learning Model \n",
    "from tensorflow.keras.models import Sequential\n",
    "from tensorflow.keras.layers import Dense\n",
    "\n",
    "# Create Sequential model - linear stack of layers \n",
    "model = Sequential()\n",
    "\n",
    "# Add /Stack layers \n",
    "# units changed to input number of rows from original data X,y in order for fitting function to work.\n",
    "model.add(Dense(units=1556, activation='relu', input_dim=1))\n",
    "model.add(Dense(units=1556, activation='relu'))\n",
    "model.add(Dense(units=1556, activation='softmax'))\n",
    "\n",
    "#Compile Model \n",
    "model.compile(optimizer='adam',\n",
    "              loss='categorical_crossentropy',\n",
    "              metrics=['accuracy'])"
   ]
  },
  {
   "cell_type": "code",
   "execution_count": 59,
   "metadata": {},
   "outputs": [
    {
     "name": "stdout",
     "output_type": "stream",
     "text": [
      "Model: \"sequential_6\"\n",
      "_________________________________________________________________\n",
      "Layer (type)                 Output Shape              Param #   \n",
      "=================================================================\n",
      "dense_18 (Dense)             (None, 1556)              3112      \n",
      "_________________________________________________________________\n",
      "dense_19 (Dense)             (None, 1556)              2422692   \n",
      "_________________________________________________________________\n",
      "dense_20 (Dense)             (None, 1556)              2422692   \n",
      "=================================================================\n",
      "Total params: 4,848,496\n",
      "Trainable params: 4,848,496\n",
      "Non-trainable params: 0\n",
      "_________________________________________________________________\n"
     ]
    }
   ],
   "source": [
    "model.summary()"
   ]
  },
  {
   "cell_type": "code",
   "execution_count": 60,
   "metadata": {},
   "outputs": [
    {
     "name": "stdout",
     "output_type": "stream",
     "text": [
      "Epoch 1/60\n",
      "1167/1167 - 1s - loss: 7.3730 - acc: 0.0000e+00\n",
      "Epoch 2/60\n",
      "1167/1167 - 1s - loss: 7.3413 - acc: 0.0000e+00\n",
      "Epoch 3/60\n",
      "1167/1167 - 1s - loss: 7.2877 - acc: 0.0000e+00\n",
      "Epoch 4/60\n",
      "1167/1167 - 1s - loss: 7.0562 - acc: 0.0000e+00\n",
      "Epoch 5/60\n",
      "1167/1167 - 1s - loss: 6.7174 - acc: 8.5690e-04\n",
      "Epoch 6/60\n",
      "1167/1167 - 1s - loss: 6.5141 - acc: 0.0000e+00\n",
      "Epoch 7/60\n",
      "1167/1167 - 1s - loss: 6.3740 - acc: 0.0000e+00\n",
      "Epoch 8/60\n",
      "1167/1167 - 1s - loss: 6.2519 - acc: 8.5690e-04\n",
      "Epoch 9/60\n",
      "1167/1167 - 1s - loss: 6.1553 - acc: 0.0026\n",
      "Epoch 10/60\n",
      "1167/1167 - 1s - loss: 6.0747 - acc: 8.5690e-04\n",
      "Epoch 11/60\n",
      "1167/1167 - 1s - loss: 6.0014 - acc: 8.5690e-04\n",
      "Epoch 12/60\n",
      "1167/1167 - 1s - loss: 5.9482 - acc: 8.5690e-04\n",
      "Epoch 13/60\n",
      "1167/1167 - 1s - loss: 5.8980 - acc: 8.5690e-04\n",
      "Epoch 14/60\n",
      "1167/1167 - 1s - loss: 5.8494 - acc: 8.5690e-04\n",
      "Epoch 15/60\n",
      "1167/1167 - 1s - loss: 5.8061 - acc: 0.0034\n",
      "Epoch 16/60\n",
      "1167/1167 - 1s - loss: 5.7697 - acc: 8.5690e-04\n",
      "Epoch 17/60\n",
      "1167/1167 - 1s - loss: 5.7340 - acc: 8.5690e-04\n",
      "Epoch 18/60\n",
      "1167/1167 - 1s - loss: 5.6982 - acc: 0.0017\n",
      "Epoch 19/60\n",
      "1167/1167 - 1s - loss: 5.6695 - acc: 0.0017\n",
      "Epoch 20/60\n",
      "1167/1167 - 1s - loss: 5.6375 - acc: 0.0026\n",
      "Epoch 21/60\n",
      "1167/1167 - 1s - loss: 5.6149 - acc: 0.0034\n",
      "Epoch 22/60\n",
      "1167/1167 - 1s - loss: 5.5896 - acc: 8.5690e-04\n",
      "Epoch 23/60\n",
      "1167/1167 - 1s - loss: 5.5649 - acc: 0.0017\n",
      "Epoch 24/60\n",
      "1167/1167 - 1s - loss: 5.5428 - acc: 0.0017\n",
      "Epoch 25/60\n",
      "1167/1167 - 1s - loss: 5.5232 - acc: 0.0060\n",
      "Epoch 26/60\n",
      "1167/1167 - 1s - loss: 5.5008 - acc: 0.0017\n",
      "Epoch 27/60\n",
      "1167/1167 - 1s - loss: 5.4816 - acc: 8.5690e-04\n",
      "Epoch 28/60\n",
      "1167/1167 - 1s - loss: 5.4552 - acc: 0.0034\n",
      "Epoch 29/60\n",
      "1167/1167 - 1s - loss: 5.4403 - acc: 0.0026\n",
      "Epoch 30/60\n",
      "1167/1167 - 1s - loss: 5.4226 - acc: 0.0043\n",
      "Epoch 31/60\n",
      "1167/1167 - 1s - loss: 5.4055 - acc: 0.0034\n",
      "Epoch 32/60\n",
      "1167/1167 - 1s - loss: 5.3956 - acc: 0.0017\n",
      "Epoch 33/60\n",
      "1167/1167 - 1s - loss: 5.3769 - acc: 8.5690e-04\n",
      "Epoch 34/60\n",
      "1167/1167 - 1s - loss: 5.3639 - acc: 0.0043\n",
      "Epoch 35/60\n",
      "1167/1167 - 1s - loss: 5.3447 - acc: 0.0034\n",
      "Epoch 36/60\n",
      "1167/1167 - 1s - loss: 5.3298 - acc: 8.5690e-04\n",
      "Epoch 37/60\n",
      "1167/1167 - 1s - loss: 5.3150 - acc: 8.5690e-04\n",
      "Epoch 38/60\n",
      "1167/1167 - 1s - loss: 5.3051 - acc: 0.0060\n",
      "Epoch 39/60\n",
      "1167/1167 - 1s - loss: 5.2941 - acc: 0.0026\n",
      "Epoch 40/60\n",
      "1167/1167 - 1s - loss: 5.2795 - acc: 0.0043\n",
      "Epoch 41/60\n",
      "1167/1167 - 1s - loss: 5.2654 - acc: 0.0043\n",
      "Epoch 42/60\n",
      "1167/1167 - 1s - loss: 5.2532 - acc: 0.0060\n",
      "Epoch 43/60\n",
      "1167/1167 - 1s - loss: 5.2432 - acc: 0.0069\n",
      "Epoch 44/60\n",
      "1167/1167 - 1s - loss: 5.2323 - acc: 0.0026\n",
      "Epoch 45/60\n",
      "1167/1167 - 1s - loss: 5.2186 - acc: 0.0043\n",
      "Epoch 46/60\n",
      "1167/1167 - 1s - loss: 5.2188 - acc: 0.0034\n",
      "Epoch 47/60\n",
      "1167/1167 - 1s - loss: 5.2061 - acc: 0.0026\n",
      "Epoch 48/60\n",
      "1167/1167 - 1s - loss: 5.1942 - acc: 0.0060\n",
      "Epoch 49/60\n",
      "1167/1167 - 1s - loss: 5.1819 - acc: 0.0034\n",
      "Epoch 50/60\n",
      "1167/1167 - 1s - loss: 5.1641 - acc: 0.0060\n",
      "Epoch 51/60\n",
      "1167/1167 - 1s - loss: 5.1672 - acc: 0.0034\n",
      "Epoch 52/60\n",
      "1167/1167 - 1s - loss: 5.1488 - acc: 0.0077\n",
      "Epoch 53/60\n",
      "1167/1167 - 1s - loss: 5.1475 - acc: 0.0034\n",
      "Epoch 54/60\n",
      "1167/1167 - 1s - loss: 5.1348 - acc: 0.0051\n",
      "Epoch 55/60\n",
      "1167/1167 - 1s - loss: 5.1208 - acc: 0.0051\n",
      "Epoch 56/60\n",
      "1167/1167 - 1s - loss: 5.1216 - acc: 0.0069\n",
      "Epoch 57/60\n",
      "1167/1167 - 1s - loss: 5.1105 - acc: 0.0051\n",
      "Epoch 58/60\n",
      "1167/1167 - 1s - loss: 5.0986 - acc: 0.0077\n",
      "Epoch 59/60\n",
      "1167/1167 - 1s - loss: 5.0850 - acc: 0.0051\n",
      "Epoch 60/60\n",
      "1167/1167 - 1s - loss: 5.0787 - acc: 0.0026\n"
     ]
    },
    {
     "data": {
      "text/plain": [
       "<tensorflow.python.keras.callbacks.History at 0x1b0220d4128>"
      ]
     },
     "execution_count": 60,
     "metadata": {},
     "output_type": "execute_result"
    }
   ],
   "source": [
    "#Fit Model (train data) \n",
    "\n",
    "# Scenario 1: Hotcode 1st, Split 2nd\n",
    "model.fit(\n",
    "    X_train_scaled,\n",
    "    y_train,\n",
    "    epochs=60,\n",
    "    shuffle=True,\n",
    "    verbose=2\n",
    ")"
   ]
  },
  {
   "cell_type": "code",
   "execution_count": 62,
   "metadata": {},
   "outputs": [
    {
     "name": "stdout",
     "output_type": "stream",
     "text": [
      "389/389 - 0s - loss: 31.9006 - acc: 0.0000e+00\n",
      "Normal Neural Network - Loss: 31.900556005365132, Accuracy: 0.0\n"
     ]
    }
   ],
   "source": [
    "#Evaluate / Validsate Model \n",
    "\n",
    "# Scenario 1: Hotcode 1st, Split 2nd \n",
    "model_loss, model_accuracy = model.evaluate(\n",
    "    X_test_scaled, y_test, verbose=2)\n",
    "\n",
    "# Scenario 2: Split 1st, hotcode 2nd \n",
    "# encounter error when hotcoding test data \n",
    "# model_loss, model_accuracy = model.evaluate(\n",
    "#     X_test_scaled, y_test_categorical, verbose=2)\n",
    "\n",
    "\n",
    "print(\n",
    "    f\"Normal Neural Network - Loss: {model_loss}, Accuracy: {model_accuracy}\")\n",
    "\n"
   ]
  },
  {
   "cell_type": "code",
   "execution_count": 63,
   "metadata": {},
   "outputs": [
    {
     "data": {
      "text/plain": [
       "array(['Gas Grill', 'Persian Rug', 'Feather Duster',\n",
       "       'Concert Hall Of Records', 'Tie & Belt Rack', 'Fleece Slippers',\n",
       "       'Dvd Player', 'Double-Roll Toilet Paper',\n",
       "       'Creative Holiday Decorations', 'Scented Bed Sheets'], dtype=object)"
      ]
     },
     "execution_count": 63,
     "metadata": {},
     "output_type": "execute_result"
    }
   ],
   "source": [
    "# Predictions\n",
    "encoded_predictions = model.predict_classes(X_test_scaled[:10])\n",
    "prediction_labels = label_encoder.inverse_transform(encoded_predictions)\n",
    "prediction_labels"
   ]
  },
  {
   "cell_type": "markdown",
   "metadata": {},
   "source": [
    "# Notes "
   ]
  },
  {
   "cell_type": "code",
   "execution_count": null,
   "metadata": {},
   "outputs": [],
   "source": [
    "# ML Model Overview  \n",
    "# ----------------------------------------------------------------------\n",
    "# Goal: predict phrase, parse predicted phrase into letters for selection \n",
    "# History Data: Frequency of phrases \n",
    "# Supervised Model b/c phrase is the y output and frequency is the x input \n",
    "# Accuracy scores outputed from fitting step extremely low \n",
    "# Scenario 1: Hotcode prior to splitting and scaling: conducted b/c error message on scenario 2 \n",
    "# Scenario 2: Hotcode post splitting data: recommended /traditional approach but unable to hotcode y test data\n",
    "\n"
   ]
  },
  {
   "cell_type": "code",
   "execution_count": null,
   "metadata": {},
   "outputs": [],
   "source": [
    "# Pending Questions / Problems -\n",
    "# Error with encoding test data via scenario 1\n",
    "# Scores are relatively zero \n",
    "\n",
    "\n",
    "\n",
    "\n"
   ]
  }
 ],
 "metadata": {
  "kernelspec": {
   "display_name": "Python 3",
   "language": "python",
   "name": "python3"
  },
  "language_info": {
   "codemirror_mode": {
    "name": "ipython",
    "version": 3
   },
   "file_extension": ".py",
   "mimetype": "text/x-python",
   "name": "python",
   "nbconvert_exporter": "python",
   "pygments_lexer": "ipython3",
   "version": "3.7.3"
  }
 },
 "nbformat": 4,
 "nbformat_minor": 2
}
