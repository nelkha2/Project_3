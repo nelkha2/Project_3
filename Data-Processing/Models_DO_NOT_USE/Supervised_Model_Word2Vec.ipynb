{
 "cells": [
  {
   "cell_type": "markdown",
   "metadata": {},
   "source": [
    "# Data Processing "
   ]
  },
  {
   "cell_type": "code",
   "execution_count": 1,
   "metadata": {},
   "outputs": [],
   "source": [
    "import pandas as pd\n",
    "import numpy as np\n",
    "import re"
   ]
  },
  {
   "cell_type": "code",
   "execution_count": 29,
   "metadata": {},
   "outputs": [],
   "source": [
    "# csv_file = \"../Data/phrases.csv\"\n",
    "csv_file = \"../Data/all_categories_and_phrases.csv\"\n",
    "# df = pd.read_csv(csv_file,encoding=\"utf-8\")\n",
    "df = pd.read_csv(csv_file)"
   ]
  },
  {
   "cell_type": "code",
   "execution_count": 31,
   "metadata": {},
   "outputs": [
    {
     "data": {
      "text/plain": [
       "0                  A Pile Of Coats\n",
       "1       A Pile Of Coats On The Bed\n",
       "2      A Shelf Full Of Knickknacks\n",
       "3          A Sock With Holes In It\n",
       "4    A Vase Filled With Sunflowers\n",
       "Name: Phrase, dtype: object"
      ]
     },
     "execution_count": 31,
     "metadata": {},
     "output_type": "execute_result"
    }
   ],
   "source": [
    "final_data = df[\"Phrase\"]\n",
    "final_data.head()"
   ]
  },
  {
   "cell_type": "markdown",
   "metadata": {},
   "source": [
    "# Embedding - Word2Vec"
   ]
  },
  {
   "cell_type": "code",
   "execution_count": null,
   "metadata": {},
   "outputs": [],
   "source": [
    "# Overview \n",
    "# --------------------------------------------------\n",
    "# convert classes into vectors and  embed in a space to identify relationships between data points \n",
    "# Model is a basic 2 layer Neural Network \n",
    "# Input: parsed words from game's phrases \n",
    "# Output / Target: words that are \"similar\" to the input word \n",
    "# Input word will change per round "
   ]
  },
  {
   "cell_type": "code",
   "execution_count": null,
   "metadata": {},
   "outputs": [],
   "source": [
    "# Functionality Steps \n",
    "# -----------------------------------------\n",
    "# Parse phrases into words \n",
    "# Tokenize words \n",
    "# Similiarity scores: random selection\n",
    "# Create & fit Word2Vec Model\n",
    "# Predict words: outcome will be associted with similarity score \n",
    "# Extract letters from predicted word\n"
   ]
  },
  {
   "cell_type": "code",
   "execution_count": 32,
   "metadata": {},
   "outputs": [],
   "source": [
    "# Dependencies \n",
    "from nltk.tokenize import sent_tokenize, word_tokenize \n",
    "import nltk\n",
    "import warnings \n",
    "import gensim \n",
    "from gensim.models import Word2Vec \n",
    "import multiprocessing "
   ]
  },
  {
   "cell_type": "code",
   "execution_count": 34,
   "metadata": {},
   "outputs": [
    {
     "data": {
      "text/plain": [
       "'0                                A Pile Of Coats\\n1                     A Pile Of Coats On The Bed\\n2                    A Shelf Full Of Knickknacks\\n3                        A Sock With Holes In It\\n4                  A Vase Filled With Sunflowers\\n5                              A Vase Of Flowers\\n6             A Vase Of Fresh Cut Garden Flowers\\n7                                 Accent Cabinet\\n8                               Accent Furniture\\n9                                  Accent Window\\n10                                  Address Book\\n11                                Address Labels\\n12                          Adjustable Shoe Rack\\n13                       Adjustable Swivel Stool\\n14                                    Afghan Rug\\n15                            After-Shave Lotion\\n16                              Air Conditioning\\n17                                 Air Freshener\\n18                                  Air Mattress\\n19                                   Alarm Clock\\n20                Alarm Clock With Nature Sounds\\n21                           All-In-One Home Gym\\n22                          All-Purpose Cleaners\\n23                           Aloe-Vera Hand Soap\\n24                                  Amusing Yarn\\n25         An Air Conditioner Running Full Blast\\n26                      Angle Broom With Dustpan\\n27                                Angora Sweater\\n28                           Animal-Shaped Lamps\\n29                  Annual Sailing Weekend Event\\n                          ...                   \\n75433                    Enjoying A Glass Of Tea\\n75434                        Fishing In The Lake\\n75435       Gathering Seashells On The Sea Shore\\n75436           Gathering Seashells On The Shore\\n75437             Getting An A On A History Test\\n75438                            Going For A Jog\\n75439                   Going To Dinner & A Show\\n75440                           Going To The Gym\\n75441                       Hanging Red Lanterns\\n75442              Hiking Through The Rainforest\\n75443                     Jogging Down The Block\\n75444                        Kayaking & Swimming\\n75445         Listening To Someone Play Mandolin\\n75446                      Making A Ham Sandwich\\n75447                     Performing Card Tricks\\n75448                            Picking Classes\\n75449             Planning A Fabulous Date Night\\n75450                  Playing In The Front Yard\\n75451                      Preparing For Company\\n75452       Riding A Double-Decker Bus In London\\n75453                             Selling My Car\\n75454             Shopping For Antique Furniture\\n75455                       Shopping In Brooklyn\\n75456                       Sipping A Cold Drink\\n75457             Staying Warm On A Chilly Night\\n75458                          Taking A Bus Tour\\n75459    Traveling A Gravel Road To A Hot Spring\\n75460                                    Walmart\\n75461               Whispering Softly I Love You\\n75462       Working Out With My Personal Trainer\\nName: Phrase, Length: 75463, dtype: object'"
      ]
     },
     "execution_count": 34,
     "metadata": {},
     "output_type": "execute_result"
    }
   ],
   "source": [
    "# Override warning notifications \n",
    "warnings.filterwarnings(action = 'ignore')\n",
    "\n",
    "# Parse phrases into words\n",
    "# words_clean = final_data[\"words\"]\n",
    "words_clean = final_data\n",
    "words_clean = words_clean.replace(\"/n\",\" \")\n",
    "# convert to acceptable format for tokenization\n",
    "words_clean = str(words_clean)\n",
    "words_clean"
   ]
  },
  {
   "cell_type": "code",
   "execution_count": 35,
   "metadata": {},
   "outputs": [
    {
     "data": {
      "text/plain": [
       "[['0',\n",
       "  'a',\n",
       "  'pile',\n",
       "  'of',\n",
       "  'coats',\n",
       "  '1',\n",
       "  'a',\n",
       "  'pile',\n",
       "  'of',\n",
       "  'coats',\n",
       "  'on',\n",
       "  'the',\n",
       "  'bed',\n",
       "  '2',\n",
       "  'a',\n",
       "  'shelf',\n",
       "  'full',\n",
       "  'of',\n",
       "  'knickknacks',\n",
       "  '3',\n",
       "  'a',\n",
       "  'sock',\n",
       "  'with',\n",
       "  'holes',\n",
       "  'in',\n",
       "  'it',\n",
       "  '4',\n",
       "  'a',\n",
       "  'vase',\n",
       "  'filled',\n",
       "  'with',\n",
       "  'sunflowers',\n",
       "  '5',\n",
       "  'a',\n",
       "  'vase',\n",
       "  'of',\n",
       "  'flowers',\n",
       "  '6',\n",
       "  'a',\n",
       "  'vase',\n",
       "  'of',\n",
       "  'fresh',\n",
       "  'cut',\n",
       "  'garden',\n",
       "  'flowers',\n",
       "  '7',\n",
       "  'accent',\n",
       "  'cabinet',\n",
       "  '8',\n",
       "  'accent',\n",
       "  'furniture',\n",
       "  '9',\n",
       "  'accent',\n",
       "  'window',\n",
       "  '10',\n",
       "  'address',\n",
       "  'book',\n",
       "  '11',\n",
       "  'address',\n",
       "  'labels',\n",
       "  '12',\n",
       "  'adjustable',\n",
       "  'shoe',\n",
       "  'rack',\n",
       "  '13',\n",
       "  'adjustable',\n",
       "  'swivel',\n",
       "  'stool',\n",
       "  '14',\n",
       "  'afghan',\n",
       "  'rug',\n",
       "  '15',\n",
       "  'after-shave',\n",
       "  'lotion',\n",
       "  '16',\n",
       "  'air',\n",
       "  'conditioning',\n",
       "  '17',\n",
       "  'air',\n",
       "  'freshener',\n",
       "  '18',\n",
       "  'air',\n",
       "  'mattress',\n",
       "  '19',\n",
       "  'alarm',\n",
       "  'clock',\n",
       "  '20',\n",
       "  'alarm',\n",
       "  'clock',\n",
       "  'with',\n",
       "  'nature',\n",
       "  'sounds',\n",
       "  '21',\n",
       "  'all-in-one',\n",
       "  'home',\n",
       "  'gym',\n",
       "  '22',\n",
       "  'all-purpose',\n",
       "  'cleaners',\n",
       "  '23',\n",
       "  'aloe-vera',\n",
       "  'hand',\n",
       "  'soap',\n",
       "  '24',\n",
       "  'amusing',\n",
       "  'yarn',\n",
       "  '25',\n",
       "  'an',\n",
       "  'air',\n",
       "  'conditioner',\n",
       "  'running',\n",
       "  'full',\n",
       "  'blast',\n",
       "  '26',\n",
       "  'angle',\n",
       "  'broom',\n",
       "  'with',\n",
       "  'dustpan',\n",
       "  '27',\n",
       "  'angora',\n",
       "  'sweater',\n",
       "  '28',\n",
       "  'animal-shaped',\n",
       "  'lamps',\n",
       "  '29',\n",
       "  'annual',\n",
       "  'sailing',\n",
       "  'weekend',\n",
       "  'event',\n",
       "  '...',\n",
       "  '75433',\n",
       "  'enjoying',\n",
       "  'a',\n",
       "  'glass',\n",
       "  'of',\n",
       "  'tea',\n",
       "  '75434',\n",
       "  'fishing',\n",
       "  'in',\n",
       "  'the',\n",
       "  'lake',\n",
       "  '75435',\n",
       "  'gathering',\n",
       "  'seashells',\n",
       "  'on',\n",
       "  'the',\n",
       "  'sea',\n",
       "  'shore',\n",
       "  '75436',\n",
       "  'gathering',\n",
       "  'seashells',\n",
       "  'on',\n",
       "  'the',\n",
       "  'shore',\n",
       "  '75437',\n",
       "  'getting',\n",
       "  'an',\n",
       "  'a',\n",
       "  'on',\n",
       "  'a',\n",
       "  'history',\n",
       "  'test',\n",
       "  '75438',\n",
       "  'going',\n",
       "  'for',\n",
       "  'a',\n",
       "  'jog',\n",
       "  '75439',\n",
       "  'going',\n",
       "  'to',\n",
       "  'dinner',\n",
       "  '&',\n",
       "  'a',\n",
       "  'show',\n",
       "  '75440',\n",
       "  'going',\n",
       "  'to',\n",
       "  'the',\n",
       "  'gym',\n",
       "  '75441',\n",
       "  'hanging',\n",
       "  'red',\n",
       "  'lanterns',\n",
       "  '75442',\n",
       "  'hiking',\n",
       "  'through',\n",
       "  'the',\n",
       "  'rainforest',\n",
       "  '75443',\n",
       "  'jogging',\n",
       "  'down',\n",
       "  'the',\n",
       "  'block',\n",
       "  '75444',\n",
       "  'kayaking',\n",
       "  '&',\n",
       "  'swimming',\n",
       "  '75445',\n",
       "  'listening',\n",
       "  'to',\n",
       "  'someone',\n",
       "  'play',\n",
       "  'mandolin',\n",
       "  '75446',\n",
       "  'making',\n",
       "  'a',\n",
       "  'ham',\n",
       "  'sandwich',\n",
       "  '75447',\n",
       "  'performing',\n",
       "  'card',\n",
       "  'tricks',\n",
       "  '75448',\n",
       "  'picking',\n",
       "  'classes',\n",
       "  '75449',\n",
       "  'planning',\n",
       "  'a',\n",
       "  'fabulous',\n",
       "  'date',\n",
       "  'night',\n",
       "  '75450',\n",
       "  'playing',\n",
       "  'in',\n",
       "  'the',\n",
       "  'front',\n",
       "  'yard',\n",
       "  '75451',\n",
       "  'preparing',\n",
       "  'for',\n",
       "  'company',\n",
       "  '75452',\n",
       "  'riding',\n",
       "  'a',\n",
       "  'double-decker',\n",
       "  'bus',\n",
       "  'in',\n",
       "  'london',\n",
       "  '75453',\n",
       "  'selling',\n",
       "  'my',\n",
       "  'car',\n",
       "  '75454',\n",
       "  'shopping',\n",
       "  'for',\n",
       "  'antique',\n",
       "  'furniture',\n",
       "  '75455',\n",
       "  'shopping',\n",
       "  'in',\n",
       "  'brooklyn',\n",
       "  '75456',\n",
       "  'sipping',\n",
       "  'a',\n",
       "  'cold',\n",
       "  'drink',\n",
       "  '75457',\n",
       "  'staying',\n",
       "  'warm',\n",
       "  'on',\n",
       "  'a',\n",
       "  'chilly',\n",
       "  'night',\n",
       "  '75458',\n",
       "  'taking',\n",
       "  'a',\n",
       "  'bus',\n",
       "  'tour',\n",
       "  '75459',\n",
       "  'traveling',\n",
       "  'a',\n",
       "  'gravel',\n",
       "  'road',\n",
       "  'to',\n",
       "  'a',\n",
       "  'hot',\n",
       "  'spring',\n",
       "  '75460',\n",
       "  'walmart',\n",
       "  '75461',\n",
       "  'whispering',\n",
       "  'softly',\n",
       "  'i',\n",
       "  'love',\n",
       "  'you',\n",
       "  '75462',\n",
       "  'working',\n",
       "  'out',\n",
       "  'with',\n",
       "  'my',\n",
       "  'personal',\n",
       "  'trainer',\n",
       "  'name',\n",
       "  ':',\n",
       "  'phrase',\n",
       "  ',',\n",
       "  'length',\n",
       "  ':',\n",
       "  '75463',\n",
       "  ',',\n",
       "  'dtype',\n",
       "  ':',\n",
       "  'object']]"
      ]
     },
     "execution_count": 35,
     "metadata": {},
     "output_type": "execute_result"
    }
   ],
   "source": [
    "# Tokenize\n",
    "\n",
    "words_tokenized = [] \n",
    "for i in sent_tokenize(words_clean): \n",
    "    temp = [] \n",
    "    \n",
    "    #tokenize phrases into words \n",
    "    for j in word_tokenize(i): \n",
    "        temp.append(j.lower()) \n",
    "  \n",
    "    words_tokenized.append(temp)\n",
    "words_tokenized"
   ]
  },
  {
   "cell_type": "code",
   "execution_count": 43,
   "metadata": {},
   "outputs": [
    {
     "data": {
      "text/plain": [
       "0.9995105"
      ]
     },
     "execution_count": 43,
     "metadata": {},
     "output_type": "execute_result"
    }
   ],
   "source": [
    "# Evaluation \n",
    "# Skip-Gram calculation \n",
    "\n",
    "model_gram = gensim.models.Word2Vec(words_tokenized, min_count = 1, size = 100, window = 50, sg = 1)\n",
    "\n",
    "# Print similarity score \n",
    "model_gram.similarity('hand','soap')"
   ]
  },
  {
   "cell_type": "code",
   "execution_count": 54,
   "metadata": {},
   "outputs": [
    {
     "data": {
      "text/plain": [
       "0.1614612"
      ]
     },
     "execution_count": 54,
     "metadata": {},
     "output_type": "execute_result"
    }
   ],
   "source": [
    "#Cosine calculation \n",
    "model_cosine = gensim.models.Word2Vec(words_tokenized, min_count = 1,  size = 150, window = 50)\n",
    "\n",
    "#Print similarity score \n",
    "model_cosine.similarity(\"hand\",\"soap\")"
   ]
  },
  {
   "cell_type": "code",
   "execution_count": 69,
   "metadata": {},
   "outputs": [],
   "source": [
    "# Create & fit Word2Vec Model (Simple 2 layer Neural Network)\n",
    "# window: number of words to consider to target from, n words from right and n words from left\n",
    "# iter: epochs\n",
    "# min_count: how many times a word needs to appear to be a component of the library\n",
    "model_w2v = Word2Vec(words_tokenized, size=10000, window=100, min_count=1, iter=5, workers=multiprocessing.cpu_count(), sg=1)"
   ]
  },
  {
   "cell_type": "code",
   "execution_count": 70,
   "metadata": {},
   "outputs": [
    {
     "data": {
      "text/plain": [
       "[('75451', 0.9999926090240479),\n",
       " ('cold', 0.9999925494194031),\n",
       " ('car', 0.9999924898147583),\n",
       " ('antique', 0.9999924898147583),\n",
       " ('object', 0.9999924302101135),\n",
       " ('working', 0.9999924302101135),\n",
       " ('hot', 0.9999923706054688),\n",
       " ('75462', 0.9999923706054688),\n",
       " ('spring', 0.9999923706054688),\n",
       " ('sipping', 0.9999923706054688)]"
      ]
     },
     "execution_count": 70,
     "metadata": {},
     "output_type": "execute_result"
    }
   ],
   "source": [
    "# Predictions - similar words \n",
    "# Predict similar of word that is passed from the front end (first word of the round's phrase)\n",
    "\n",
    "# receive word from front end (per round)\n",
    "input_word = \"coats\"\n",
    "word_vectors = model_w2v.wv\n",
    "similar_words = word_vectors.similar_by_word(input_word)\n",
    "similar_words\n"
   ]
  },
  {
   "cell_type": "code",
   "execution_count": 71,
   "metadata": {},
   "outputs": [
    {
     "name": "stdout",
     "output_type": "stream",
     "text": [
      "['75451', 'cold', 'car', 'antique', 'object', 'working', 'hot', '75462', 'spring', 'sipping']\n"
     ]
    }
   ],
   "source": [
    "# Letters selection - parse words \n",
    "similar_words_clean = np.asarray(similar_words)\n",
    "\n",
    "def Extract(similar_words_clean):\n",
    "    return [item[0] for item in similar_words_clean]\n",
    "print(Extract(similar_words_clean))\n",
    "similar_words_clean = Extract(similar_words_clean)"
   ]
  },
  {
   "cell_type": "code",
   "execution_count": 72,
   "metadata": {},
   "outputs": [
    {
     "data": {
      "text/plain": [
       "['a', 'c', 'e', 'f', 'i', 'l', 'p', 'r']"
      ]
     },
     "execution_count": 72,
     "metadata": {},
     "output_type": "execute_result"
    }
   ],
   "source": [
    "df = pd.DataFrame(similar_words_clean)\n",
    "test = df.iloc[0]\n",
    "\n",
    "chars = sorted(list(set(\"fireplace\")))\n",
    "chars"
   ]
  },
  {
   "cell_type": "markdown",
   "metadata": {},
   "source": [
    "# Issues / Pending "
   ]
  },
  {
   "cell_type": "code",
   "execution_count": null,
   "metadata": {},
   "outputs": [],
   "source": [
    "# Array of letters (after parsing phrases) holds special characters and numbers, can we remove them? \n",
    "# Ultimate goal is to create a bucket of letters, these come from parsing the predicted (similar words), do we need to create a for loop? \n"
   ]
  }
 ],
 "metadata": {
  "kernelspec": {
   "display_name": "Python 3",
   "language": "python",
   "name": "python3"
  },
  "language_info": {
   "codemirror_mode": {
    "name": "ipython",
    "version": 3
   },
   "file_extension": ".py",
   "mimetype": "text/x-python",
   "name": "python",
   "nbconvert_exporter": "python",
   "pygments_lexer": "ipython3",
   "version": "3.7.3"
  }
 },
 "nbformat": 4,
 "nbformat_minor": 2
}
