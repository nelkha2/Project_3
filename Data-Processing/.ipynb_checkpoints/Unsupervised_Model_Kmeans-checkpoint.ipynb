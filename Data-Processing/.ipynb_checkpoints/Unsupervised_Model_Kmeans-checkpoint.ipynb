{
 "cells": [
  {
   "cell_type": "markdown",
   "metadata": {},
   "source": [
    "# Data Processing "
   ]
  },
  {
   "cell_type": "code",
   "execution_count": 76,
   "metadata": {},
   "outputs": [
    {
     "name": "stdout",
     "output_type": "stream",
     "text": [
      "Collecting kmodes\n",
      "  Downloading https://files.pythonhosted.org/packages/79/c0/f7d8a0eb41ac6f302b4bc100f91b6e0f2558425ccfefaa0ec0430f77ee97/kmodes-0.10.1-py2.py3-none-any.whl\n",
      "Requirement already satisfied: scikit-learn>=0.19.0 in c:\\users\\nader\\anaconda3\\lib\\site-packages (from kmodes) (0.20.3)\n",
      "Requirement already satisfied: scipy>=0.13.3 in c:\\users\\nader\\anaconda3\\lib\\site-packages (from kmodes) (1.2.1)\n",
      "Requirement already satisfied: joblib>=0.11 in c:\\users\\nader\\anaconda3\\lib\\site-packages (from kmodes) (0.14.0)\n",
      "Requirement already satisfied: numpy>=1.10.4 in c:\\users\\nader\\anaconda3\\lib\\site-packages (from kmodes) (1.16.2)\n",
      "Installing collected packages: kmodes\n",
      "Successfully installed kmodes-0.10.1\n"
     ]
    }
   ],
   "source": [
    "!pip install kmodes"
   ]
  },
  {
   "cell_type": "code",
   "execution_count": 77,
   "metadata": {},
   "outputs": [
    {
     "name": "stdout",
     "output_type": "stream",
     "text": [
      "Requirement already up-to-date: kmodes in c:\\users\\nader\\anaconda3\\lib\\site-packages (0.10.1)\n",
      "Requirement already satisfied, skipping upgrade: numpy>=1.10.4 in c:\\users\\nader\\anaconda3\\lib\\site-packages (from kmodes) (1.16.2)\n",
      "Requirement already satisfied, skipping upgrade: scikit-learn>=0.19.0 in c:\\users\\nader\\anaconda3\\lib\\site-packages (from kmodes) (0.20.3)\n",
      "Requirement already satisfied, skipping upgrade: scipy>=0.13.3 in c:\\users\\nader\\anaconda3\\lib\\site-packages (from kmodes) (1.2.1)\n",
      "Requirement already satisfied, skipping upgrade: joblib>=0.11 in c:\\users\\nader\\anaconda3\\lib\\site-packages (from kmodes) (0.14.0)\n"
     ]
    }
   ],
   "source": [
    "!pip install --upgrade kmodes"
   ]
  },
  {
   "cell_type": "code",
   "execution_count": 18,
   "metadata": {},
   "outputs": [],
   "source": [
    "# Dependencies \n",
    "import numpy as np\n",
    "import pandas as pd\n",
    "%matplotlib inline\n",
    "import matplotlib.pyplot as plt"
   ]
  },
  {
   "cell_type": "code",
   "execution_count": 61,
   "metadata": {},
   "outputs": [
    {
     "data": {
      "text/html": [
       "<div>\n",
       "<style scoped>\n",
       "    .dataframe tbody tr th:only-of-type {\n",
       "        vertical-align: middle;\n",
       "    }\n",
       "\n",
       "    .dataframe tbody tr th {\n",
       "        vertical-align: top;\n",
       "    }\n",
       "\n",
       "    .dataframe thead th {\n",
       "        text-align: right;\n",
       "    }\n",
       "</style>\n",
       "<table border=\"1\" class=\"dataframe\">\n",
       "  <thead>\n",
       "    <tr style=\"text-align: right;\">\n",
       "      <th></th>\n",
       "      <th>Letter_Selected</th>\n",
       "      <th>Game_Num</th>\n",
       "    </tr>\n",
       "  </thead>\n",
       "  <tbody>\n",
       "    <tr>\n",
       "      <th>0</th>\n",
       "      <td>W</td>\n",
       "      <td>1</td>\n",
       "    </tr>\n",
       "    <tr>\n",
       "      <th>1</th>\n",
       "      <td>U</td>\n",
       "      <td>1</td>\n",
       "    </tr>\n",
       "    <tr>\n",
       "      <th>2</th>\n",
       "      <td>M</td>\n",
       "      <td>1</td>\n",
       "    </tr>\n",
       "    <tr>\n",
       "      <th>3</th>\n",
       "      <td>Y</td>\n",
       "      <td>1</td>\n",
       "    </tr>\n",
       "    <tr>\n",
       "      <th>4</th>\n",
       "      <td>R</td>\n",
       "      <td>1</td>\n",
       "    </tr>\n",
       "  </tbody>\n",
       "</table>\n",
       "</div>"
      ],
      "text/plain": [
       "  Letter_Selected  Game_Num\n",
       "0               W         1\n",
       "1               U         1\n",
       "2               M         1\n",
       "3               Y         1\n",
       "4               R         1"
      ]
     },
     "execution_count": 61,
     "metadata": {},
     "output_type": "execute_result"
    }
   ],
   "source": [
    "# Extract Data - Model to learn from this historical data \n",
    "# UAT: csv manually created, =CHAR(RANDBETWEEN(65,90)) random selection of letters\n",
    "# Production: Feed from a SQLite table similiar to the below structure, created as a dictionary of arrays in JS\n",
    "letters = pd.read_csv('../Data/Letters_test.csv')\n",
    "letters_df = pd.DataFrame(letters) \n",
    "letters_df.head()"
   ]
  },
  {
   "cell_type": "code",
   "execution_count": 62,
   "metadata": {},
   "outputs": [
    {
     "name": "stdout",
     "output_type": "stream",
     "text": [
      "['Letter_Selected', 'Game_Num']\n"
     ]
    }
   ],
   "source": [
    "#Quality Check: no spaces embedded in column names \n",
    "print(letters_df.columns.tolist())"
   ]
  },
  {
   "cell_type": "code",
   "execution_count": 74,
   "metadata": {},
   "outputs": [
    {
     "data": {
      "image/png": "[encoded data removed]",
      "text/plain": [
       "<Figure size 432x288 with 1 Axes>"
      ]
     },
     "metadata": {
      "needs_background": "light"
     },
     "output_type": "display_data"
    }
   ],
   "source": [
    "# Scatter Plot \n",
    "# Get a visualization of historical data\n",
    "\n",
    "x = letters_df[\"Letter_Selected\"]\n",
    "y = letters_df[\"Game_Num\"]\n",
    "plt.scatter(x, y, alpha=0.5)\n",
    "plt.show()\n"
   ]
  },
  {
   "cell_type": "markdown",
   "metadata": {},
   "source": [
    "# Model - Kmodes "
   ]
  },
  {
   "cell_type": "code",
   "execution_count": 92,
   "metadata": {},
   "outputs": [],
   "source": [
    "#Create Model \n",
    "from kmodes.kmodes import KModes\n",
    "km = KModes(n_clusters=5, init='Huang', n_init=5, verbose=1)"
   ]
  },
  {
   "cell_type": "code",
   "execution_count": 93,
   "metadata": {},
   "outputs": [
    {
     "name": "stdout",
     "output_type": "stream",
     "text": [
      "Init: initializing centroids\n",
      "Init: initializing clusters\n",
      "Starting iterations...\n",
      "Run 1, iteration: 1/100, moves: 91, cost: 352.0\n",
      "Run 1, iteration: 2/100, moves: 2, cost: 352.0\n",
      "Init: initializing centroids\n",
      "Init: initializing clusters\n",
      "Starting iterations...\n",
      "Run 2, iteration: 1/100, moves: 61, cost: 351.0\n",
      "Run 2, iteration: 2/100, moves: 0, cost: 351.0\n",
      "Init: initializing centroids\n",
      "Init: initializing clusters\n",
      "Starting iterations...\n",
      "Run 3, iteration: 1/100, moves: 38, cost: 376.0\n",
      "Run 3, iteration: 2/100, moves: 0, cost: 376.0\n",
      "Init: initializing centroids\n",
      "Init: initializing clusters\n",
      "Starting iterations...\n",
      "Run 4, iteration: 1/100, moves: 0, cost: 353.0\n",
      "Init: initializing centroids\n",
      "Init: initializing clusters\n",
      "Starting iterations...\n",
      "Run 5, iteration: 1/100, moves: 16, cost: 341.0\n",
      "Run 5, iteration: 2/100, moves: 0, cost: 341.0\n",
      "Best run was number 5\n"
     ]
    }
   ],
   "source": [
    "# Fit Model to data \n",
    "clusters = km.fit_predict(letters_df)"
   ]
  },
  {
   "cell_type": "code",
   "execution_count": 94,
   "metadata": {},
   "outputs": [
    {
     "name": "stdout",
     "output_type": "stream",
     "text": [
      "[['H' '2']\n",
      " ['N' '7']\n",
      " ['A' '5']\n",
      " ['E' '9']\n",
      " ['W' '4']]\n"
     ]
    }
   ],
   "source": [
    "# Cluster centroids \n",
    "# center locations for each cluster \n",
    "print(km.cluster_centroids_)"
   ]
  },
  {
   "cell_type": "code",
   "execution_count": 98,
   "metadata": {},
   "outputs": [
    {
     "data": {
      "text/plain": [
       "array([4, 0, 0, 0, 0, 4, 0, 0, 0, 0, 0, 0, 0, 0, 0, 4, 0, 0, 0, 0, 1, 0,\n",
       "       0, 0, 0, 0, 0, 0, 0, 0, 0, 0, 0, 0, 0, 0, 0, 0, 0, 0, 0, 0, 0, 0,\n",
       "       0, 0, 0, 0, 0, 0, 0, 0, 0, 0, 0, 0, 0, 0, 0, 0, 0, 0, 0, 0, 0, 0,\n",
       "       0, 0, 0, 0, 0, 0, 0, 0, 0, 0, 0, 0, 0, 0, 0, 0, 0, 0, 0, 0, 0, 0,\n",
       "       0, 0, 0, 0, 2, 0, 0, 0, 0, 1, 4, 4, 4, 4, 4, 4, 4, 4, 4, 4, 4, 4,\n",
       "       4, 4, 4, 4, 4, 4, 4, 0, 4, 4, 4, 4, 1, 4, 0, 4, 3, 4, 4, 2, 2, 2,\n",
       "       2, 2, 2, 2, 2, 2, 2, 2, 2, 2, 2, 2, 2, 2, 2, 2, 2, 2, 2, 2, 2, 2,\n",
       "       1, 2, 2, 2, 2, 2, 0, 0, 0, 0, 0, 0, 0, 0, 0, 0, 2, 0, 0, 0, 4, 0,\n",
       "       0, 0, 0, 0, 0, 0, 1, 2, 0, 0, 0, 0, 0, 1, 1, 1, 1, 1, 1, 1, 1, 1,\n",
       "       1, 1, 1, 1, 1, 1, 1, 1, 1, 1, 1, 1, 1, 1, 1, 1, 1, 1, 1, 0, 0, 0,\n",
       "       0, 0, 0, 0, 0, 0, 0, 0, 1, 0, 1, 0, 0, 3, 0, 0, 3, 0, 0, 0, 0, 3,\n",
       "       3, 3, 3, 3, 3, 3, 3, 3, 3, 3, 1, 3, 3, 1, 2, 3, 3, 3, 3, 3, 3, 3,\n",
       "       3, 3, 3, 3, 3, 3, 3, 3, 3, 3, 3, 3], dtype=uint16)"
      ]
     },
     "execution_count": 98,
     "metadata": {},
     "output_type": "execute_result"
    }
   ],
   "source": [
    "# Predictions \n",
    "clusters"
   ]
  },
  {
   "cell_type": "markdown",
   "metadata": {},
   "source": [
    "# Notes "
   ]
  },
  {
   "cell_type": "code",
   "execution_count": null,
   "metadata": {},
   "outputs": [],
   "source": [
    "# ML Model Overview Functionality \n",
    "# History Data: letters selected per game by the user \n",
    "# Unsupervised data b/c the input are the letters selected by the user, there aren't any other variables coming in play (other than the game #)\n",
    "# Model can servse for the initial round or a default case \n"
   ]
  },
  {
   "cell_type": "code",
   "execution_count": null,
   "metadata": {},
   "outputs": [],
   "source": [
    "# Pending Questions -\n",
    "# Predictions interpretion: do we use the centroids as the prediction data or are the clusters translated into categorical data? \n",
    "# There isn't a way to evaluate this type of model, confirm? \n",
    "\n"
   ]
  }
 ],
 "metadata": {
  "kernelspec": {
   "display_name": "Python 3",
   "language": "python",
   "name": "python3"
  },
  "language_info": {
   "codemirror_mode": {
    "name": "ipython",
    "version": 3
   },
   "file_extension": ".py",
   "mimetype": "text/x-python",
   "name": "python",
   "nbconvert_exporter": "python",
   "pygments_lexer": "ipython3",
   "version": "3.7.3"
  }
 },
 "nbformat": 4,
 "nbformat_minor": 2
}
